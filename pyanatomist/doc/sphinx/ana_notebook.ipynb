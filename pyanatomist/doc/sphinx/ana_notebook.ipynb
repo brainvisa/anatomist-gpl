{
 "cells": [
  {
   "cell_type": "markdown",
   "id": "ca2e74f7",
   "metadata": {},
   "source": [
    "# Anatomist notebook extension demo\n",
    "\n",
    "This notebook demonstrates the notebook variant of Anatomist. It runs inside `Jupyter notebook`. Paths in the demo assume that the notebook is run inside a [casa-distro container](https://github.com/brainvisa/casa-distro), and a recent build in python3 (jupyter extensions have been added only in python3 in this container)."
   ]
  },
  {
   "cell_type": "code",
   "execution_count": 12,
   "id": "90f7ef02",
   "metadata": {},
   "outputs": [
    {
     "name": "stdout",
     "output_type": "stream",
     "text": [
      "Doc is available at the following address:\n",
      "file:///home/dr144257/casa_distro/brainvisa-master-ubuntu-18.04/build/share/doc/pyanatomist-5.1/sphinx/pyanatomist_notebook.html\n",
      "You can copy it and paste it in your web browser.\n"
     ]
    }
   ],
   "source": [
    "import os\n",
    "casa = os.environ['CASA_HOST_DIR']\n",
    "doc = os.path.join(casa, 'build/share/doc/pyanatomist-5.1/sphinx/pyanatomist_notebook.html')\n",
    "print('Doc is available at the following address:')\n",
    "print('file://' + doc)\n",
    "print('You can copy it and paste it in your web browser.')"
   ]
  },
  {
   "cell_type": "markdown",
   "id": "0d2fec56",
   "metadata": {},
   "source": [
    "The API is exactly the same as the \"regular\" Anatomist:"
   ]
  },
  {
   "cell_type": "code",
   "execution_count": 13,
   "id": "031130ad",
   "metadata": {},
   "outputs": [],
   "source": [
    "import anatomist.notebook as ana\n",
    "a = ana.Anatomist()"
   ]
  },
  {
   "cell_type": "code",
   "execution_count": 14,
   "id": "a3d3f0a2",
   "metadata": {},
   "outputs": [
    {
     "data": {
      "application/vnd.jupyter.widget-view+json": {
       "model_id": "beb4a4a91d7c422ca057a547cb78e258",
       "version_major": 2,
       "version_minor": 0
      },
      "text/plain": [
       "AnatomistInteractiveWidget(height=479, layout=Layout(height='auto', width='auto'), width=424)"
      ]
     },
     "metadata": {},
     "output_type": "display_data"
    },
    {
     "data": {
      "application/vnd.jupyter.widget-view+json": {
       "model_id": "5a518394fc66408d9b10b615f07cdde7",
       "version_major": 2,
       "version_minor": 0
      },
      "text/plain": [
       "AnatomistInteractiveWidget(height=336, layout=Layout(height='auto', width='auto'), width=424)"
      ]
     },
     "metadata": {},
     "output_type": "display_data"
    },
    {
     "name": "stderr",
     "output_type": "stream",
     "text": [
      "No handles with labels found to put in legend.\n"
     ]
    }
   ],
   "source": [
    "mri = a.loadObject('/casa/host/build/share/brainvisa-share-5.1/anatomical_templates/MNI152_T1_1mm.nii.gz')\n",
    "w1 = a.createWindow('Axial')\n",
    "w2 = a.createWindow('Coronal')\n",
    "mri.addInWindows([w1, w2])\n",
    "w1.moveLinkedCursor([70., 120., 75.])"
   ]
  },
  {
   "cell_type": "markdown",
   "id": "3273d355",
   "metadata": {},
   "source": [
    "As you will note, views here are interactive and are displaying standard Anatomist views. 3D hardware is used when possible as in the headless variant of Anatomist. Displaying is a blit slower (thus less smooth) however because rendering is performed on server side, then compressed in JPEG, and transfered to the web browser.\n",
    "\n",
    "\"expensive\" renderings such as Volume Rendering can be done without more overhead:"
   ]
  },
  {
   "cell_type": "code",
   "execution_count": 15,
   "id": "95d80738",
   "metadata": {},
   "outputs": [
    {
     "name": "stderr",
     "output_type": "stream",
     "text": [
      "No handles with labels found to put in legend.\n"
     ]
    },
    {
     "data": {
      "application/vnd.jupyter.widget-view+json": {
       "model_id": "7f548ada2c494018ac3449fe24ac191b",
       "version_major": 2,
       "version_minor": 0
      },
      "text/plain": [
       "AnatomistInteractiveWidget(height=479, layout=Layout(height='auto', width='auto'), width=424)"
      ]
     },
     "metadata": {},
     "output_type": "display_data"
    }
   ],
   "source": [
    "vol_render = a.fusionObjects([mri], method='VolumeRenderingFusionMethod')\n",
    "cut_vr = a.fusionObjects([vol_render], method='FusionClipMethod')\n",
    "w3 = a.createWindow('3D')\n",
    "w3.addObjects(cut_vr)\n",
    "w3.setControl('CutControl')"
   ]
  },
  {
   "cell_type": "markdown",
   "id": "964ea7e8",
   "metadata": {},
   "source": [
    "The view above is also interactive (use middle button to rotate, shift+middle to orient the cut plane, ctrl+middle to shift it)"
   ]
  },
  {
   "cell_type": "markdown",
   "id": "281f45c8",
   "metadata": {},
   "source": [
    "Other kind of windows can be displayed also, but are not refreshed as often as needed. Only user input triggers updates (but moving the mouse focus in/out is enough):"
   ]
  },
  {
   "cell_type": "code",
   "execution_count": 16,
   "id": "b67a3461",
   "metadata": {},
   "outputs": [
    {
     "data": {
      "application/vnd.jupyter.widget-view+json": {
       "model_id": "09c43488479d4cbda9b099eeb12f9f53",
       "version_major": 2,
       "version_minor": 0
      },
      "text/plain": [
       "AnatomistInteractiveWidget(height=400, layout=Layout(height='auto', width='auto'), width=400)"
      ]
     },
     "metadata": {},
     "output_type": "display_data"
    },
    {
     "data": {
      "application/vnd.jupyter.widget-view+json": {
       "model_id": "c32607a40489488881ab32e0aaad0429",
       "version_major": 2,
       "version_minor": 0
      },
      "text/plain": [
       "AnatomistInteractiveWidget(height=520, layout=Layout(height='auto', width='auto'), width=640)"
      ]
     },
     "metadata": {},
     "output_type": "display_data"
    },
    {
     "name": "stderr",
     "output_type": "stream",
     "text": [
      "No handles with labels found to put in legend.\n"
     ]
    }
   ],
   "source": [
    "browser = a.createWindow('Browser')\n",
    "hist = a.createWindow('Matplotlib-histogram')\n",
    "mri.addInWindows([browser, hist])"
   ]
  },
  {
   "cell_type": "markdown",
   "id": "1aa0d18f",
   "metadata": {},
   "source": [
    "Of course, meshes can also be displayed (as well as all objects supported by Anatomist):"
   ]
  },
  {
   "cell_type": "code",
   "execution_count": 17,
   "id": "fba83cc9",
   "metadata": {},
   "outputs": [
    {
     "data": {
      "application/vnd.jupyter.widget-view+json": {
       "model_id": "415de2a61337489bb8fd0bc5cf208bb7",
       "version_major": 2,
       "version_minor": 0
      },
      "text/plain": [
       "AnatomistInteractiveWidget(height=479, layout=Layout(height='auto', width='auto'), width=424)"
      ]
     },
     "metadata": {},
     "output_type": "display_data"
    },
    {
     "name": "stderr",
     "output_type": "stream",
     "text": [
      "No handles with labels found to put in legend.\n"
     ]
    }
   ],
   "source": [
    "mesh_l = a.loadObject('/casa/host/build/share/brainvisa-share-5.1/models/models_2008/descriptive_models/segments/global_registered_spam_left/meshes/Lwhite_spam.gii')\n",
    "mesh_r = a.loadObject('/casa/host/build/share/brainvisa-share-5.1/models/models_2008/descriptive_models/segments/global_registered_spam_right/meshes/Rwhite_spam.gii')\n",
    "w4 = a.createWindow('3D')\n",
    "w4.addObjects([mesh_l, mesh_r])"
   ]
  }
 ],
 "metadata": {
  "kernelspec": {
   "display_name": "Python 3",
   "language": "python",
   "name": "python3"
  },
  "language_info": {
   "codemirror_mode": {
    "name": "ipython",
    "version": 3
   },
   "file_extension": ".py",
   "mimetype": "text/x-python",
   "name": "python",
   "nbconvert_exporter": "python",
   "pygments_lexer": "ipython3",
   "version": "3.6.9"
  }
 },
 "nbformat": 4,
 "nbformat_minor": 5
}
