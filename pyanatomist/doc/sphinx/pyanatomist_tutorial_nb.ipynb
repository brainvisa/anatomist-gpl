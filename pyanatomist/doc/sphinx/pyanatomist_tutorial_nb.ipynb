{
 "cells": [
  {
   "cell_type": "markdown",
   "metadata": {},
   "source": [
    "PyAnatomist tutorial\n",
    "====================\n",
    "\n",
    "Programming with Anatomist in Python language\n",
    "---------------------------------------------\n",
    "\n",
    "Anatomist is written in C++ language but has also a python API:\n",
    "**PyAnatomist**. This python API enables to drive Anatomist application\n",
    "through python scripts : using Anatomist, loading volumes, meshes,\n",
    "graphs, viewing them in windows, merging objects, changing color\n",
    "palettes, etc... It can be useful in order to automate a repetitive\n",
    "visualization task or to add features to Anatomist application by\n",
    "developping a python plugin, which is much more easier than developping\n",
    "directly in Anatomist C++ library. Actually, several features in\n",
    "Anatomist have been added via a python plugin like the gradient palette\n",
    "for example. The python API is also used by several viewers in\n",
    "BrainVISA.\n",
    "\n",
    "Description of the API\n",
    "----------------------\n",
    "\n",
    "The main entry point is the [Anatomist](pyanatomist_base.html#anatomist.base.Anatomist) class which must be instantiated\n",
    "before any operation can be performed. It represents Anatomist\n",
    "application. This class contains a number of nested classes:\n",
    "[AObject](pyanatomist_base.html#anatomist.base.Anatomist.AObject), [AWindow](pyanatomist_base.html#anatomist.base.Anatomist.AWindow)... that represent the elements\n",
    "of Anatomist application.\n",
    "\n",
    "This notebook is using Qt gui, so first of all let's do:"
   ]
  },
  {
   "cell_type": "code",
   "execution_count": 2,
   "metadata": {},
   "outputs": [],
   "source": [
    "# test if we are inside a notebook: if yes, use the nbanatomist implementation\n",
    "import sys\n",
    "if 'ipywidgets' in sys.modules:\n",
    "    import anatomist\n",
    "    anatomist.setDefaultImplementation('nbanatomist')\n",
    "else:\n",
    "    import os\n",
    "    os.environ[\"QT_API\"] = \"pyqt5\"\n",
    "    %gui qt"
   ]
  },
  {
   "cell_type": "markdown",
   "metadata": {},
   "source": [
    "The entry point of this API is the module **anatomist.api**, you can\n",
    "import it as below:"
   ]
  },
  {
   "cell_type": "code",
   "execution_count": 3,
   "metadata": {},
   "outputs": [],
   "source": [
    "import anatomist.api as anatomist"
   ]
  },
  {
   "cell_type": "markdown",
   "metadata": {},
   "source": [
    "And then create an instance of Anatomist:"
   ]
  },
  {
   "cell_type": "code",
   "execution_count": 4,
   "metadata": {},
   "outputs": [
    {
     "name": "stdout",
     "output_type": "stream",
     "text": [
      "global modules: /casa/host/build/share/anatomist-5.1/python_plugins\n",
      "home   modules: /casa/home/.anatomist/python_plugins\n",
      "loading module volumepalettes\n",
      "loading module palettecontrols\n",
      "loading module profilewindow\n",
      "loading module modelGraphs\n",
      "loading module bundles_split_by_cortical_regions\n",
      "loading module anacontrolmenu\n",
      "loading module selection\n",
      "loading module bsa_proba\n",
      "loading module save_resampled\n",
      "loading module paletteViewer\n",
      "loading module histogram\n",
      "loading module foldsplit\n",
      "loading module simple_controls\n",
      "Anatomist started.\n",
      "loading module bundles_small_brains\n",
      "loading module gradientpalette\n",
      "loading module ana_image_math\n",
      "loading module meshsplit\n",
      "all python modules loaded\n",
      "Anatomist started.\n"
     ]
    }
   ],
   "source": [
    "a = anatomist.Anatomist()"
   ]
  },
  {
   "cell_type": "markdown",
   "metadata": {},
   "source": [
    "So you can send commands to Anatomist application, for example creating\n",
    "a window:"
   ]
  },
  {
   "cell_type": "code",
   "execution_count": 4,
   "metadata": {},
   "outputs": [
    {
     "data": {
      "application/vnd.jupyter.widget-view+json": {
       "model_id": "c60c4050ab2449caaacd6f5e308e08b9",
       "version_major": 2,
       "version_minor": 0
      },
      "text/plain": [
       "AnatomistInteractiveWidget(height=384, layout=Layout(height='auto', width='auto'), width=384)"
      ]
     },
     "metadata": {},
     "output_type": "display_data"
    }
   ],
   "source": [
    "window = a.createWindow('3D')"
   ]
  },
  {
   "cell_type": "markdown",
   "metadata": {},
   "source": [
    "Implementation\n",
    "--------------\n",
    "\n",
    "Several means of driving Anatomist in python scripts exist :\n",
    "\n",
    "-   **Python bindings for the C++ library** (SIP bindings). In this\n",
    "    mode, all bound features are available. You handle directly the\n",
    "    Anatomist objects. But Anatomist is loaded directly in your python\n",
    "    program, it is not an independent program in this mode. So the\n",
    "    errors that occur in Anatomist are reported in the python script.\n",
    "-   **Sending commands via a network socket**. Anatomist is run in\n",
    "    server mode and listen for commands on the socket connection. In\n",
    "    this mode, the available features are limited to what can be\n",
    "    expressed with Anatomist commands system, so a limited set of\n",
    "    features. A list of these commands can be found\n",
    "    [here (main page in french, sorry)](../../anatomist/html/fr/programmation/commands.html).\n",
    "    You cannot handle directly the Anatomist objects, they are\n",
    "    represented by a key. But Anatomist application runs in a separate\n",
    "    process so potential errors in Anatomist don't crash the application\n",
    "    that uses the API.\n",
    "\n",
    "Behind a general interface, this api provides several implementations, distinguished by their method of communication with Anatomist, or with the rendering modes (GUI, headless, notebook).\n",
    "\n",
    "The implementation that uses the python bindings is called *direct*\n",
    "implementation and is in the module\n",
    "[anatomist.direct.api](pyanatomist_direct.html). The implementation that\n",
    "uses socket communication is called *socket* implementation and is in\n",
    "the module anatomist.socket.api [anatomist.socket.api](pyanatomist_socket.html). By default, the\n",
    "implementation used when you import anatomist.api is the *direct*\n",
    "implementation.\n",
    "\n",
    "A third implementation is a thread-safe variant of the direct module:\n",
    "[anatomist.threaded.api](pyanatomist_threaded.html) module. It redirects\n",
    "every call to the API to be actually called from the main thread. It is\n",
    "obviously slower.\n",
    "\n",
    "Another specific implementation for Brainvisa also exists:\n",
    "*brainvisa.anatomist* module. It enables to use brainvisa database\n",
    "information on loaded objects to automatically load associated\n",
    "referentials and transformations. It uses the same api, so it is\n",
    "possible to switch from one implementation to the other.\n",
    "\n",
    "By default, the brainvisa module uses the threaded implementation. But\n",
    "it is possible to switch to the socket implementation in the\n",
    "configuration options.\n",
    "\n",
    "Using the API\n",
    "-------------\n",
    "\n",
    "In this part, we will use the same story as in the\n",
    "[anatomist tutorial](../../anatomist/user_doc/anatomist_tutorial.html) and see how to\n",
    "do the same with a python script. The data for the examples in this\n",
    "section are the same:\n",
    "<ftp://ftp.cea.fr/pub/dsv/anatomist/data/demo_data.zip>.\n",
    "\n",
    "The following examples use the general API functions that are available\n",
    "in both direct and socket implementations. To run the following\n",
    "examples, we will use an interactive python shell\n",
    "[IPython](http://ipython.org). It is much more practical than the\n",
    "classic python shell because it offers useful features like automatic\n",
    "completion. This program is available in the BrainVISA package with all\n",
    "other executable programs in the *bin* directory of the BrainVISA\n",
    "package directory. *IPython* should be run with the option *--gui=qt*,\n",
    "which runs a Qt event loop, needed for the graphical interface."
   ]
  },
  {
   "cell_type": "markdown",
   "metadata": {
    "attributes": {
     "classes": [
      "sourceCode"
     ],
     "id": ""
    }
   },
   "source": [
    "<pre>\n",
    "&lt;brainvisa_installation_directory&gt;/bin/ipython --gui=qt</pre>\n"
   ]
  },
  {
   "cell_type": "markdown",
   "metadata": {},
   "source": [
    "The following code is to work in a temporary directory, download and uncompress the demo data."
   ]
  },
  {
   "cell_type": "code",
   "execution_count": 8,
   "metadata": {},
   "outputs": [
    {
     "name": "stdout",
     "output_type": "stream",
     "text": [
      "we are working in: /tmp/pyanatomist_tutorial_ibdjn32j\n"
     ]
    }
   ],
   "source": [
    "from __future__ import print_function\n",
    "from six.moves.urllib.request import urlopen\n",
    "import zipfile\n",
    "import os\n",
    "import os.path\n",
    "import tempfile\n",
    "# let's work in a temporary directory\n",
    "tuto_dir = tempfile.mkdtemp(prefix='pyanatomist_tutorial_')\n",
    "demo_data = os.path.join(tuto_dir, 'demo_data.zip')\n",
    "with urlopen('ftp://ftp.cea.fr/pub/dsv/anatomist/data/demo_data.zip') as f:\n",
    "    with open(demo_data, 'wb') as g:\n",
    "        g.write(f.read())\n",
    "older_cwd = os.getcwd()\n",
    "os.chdir(tuto_dir)\n",
    "with zipfile.ZipFile(demo_data) as f:\n",
    "    f.extractall()\n",
    "del f\n",
    "print('we are working in:', tuto_dir)"
   ]
  },
  {
   "cell_type": "markdown",
   "metadata": {},
   "source": [
    "### Run Anatomist\n",
    "\n",
    "First of all, we need to import anatomist API module. Here, in a Python\n",
    "shell, the default implementation is the direct one (Python bindings).\n",
    "\n",
    "Then we can create an instance of Anatomist class."
   ]
  },
  {
   "cell_type": "code",
   "execution_count": 5,
   "metadata": {},
   "outputs": [],
   "source": [
    "import anatomist.api as ana\n",
    "\n",
    "a = ana.Anatomist()"
   ]
  },
  {
   "cell_type": "markdown",
   "metadata": {},
   "source": [
    "### Load an object\n",
    "\n",
    "In this example, we will put the path to the *data\\_for\\_anatomist*\n",
    "directory in a variable named src. We will use this variable in all the\n",
    "next examples. We will also load a python module named *os* which has\n",
    "useful functions to handle files and paths."
   ]
  },
  {
   "cell_type": "code",
   "execution_count": 6,
   "metadata": {},
   "outputs": [],
   "source": [
    "import os\n",
    "tuto_dir = '/tmp/pyanatomist_tutorial_ibdjn32j'\n",
    "os.chdir(tuto_dir)\n",
    "src = tuto_dir\n",
    "# Load an object\n",
    "t1mri = a.loadObject(os.path.join(src, \"data_for_anatomist\", \"subject01\", \"subject01.nii\"))"
   ]
  },
  {
   "cell_type": "markdown",
   "metadata": {},
   "source": [
    "See\n",
    "[the corresponding actions in the graphical interface](../../anatomist/user_doc/anatomist_tutorial.html#load-an-object).\n",
    "\n",
    "### View an object\n",
    "\n",
    "We open an axial window and add the volume loaded in the previous\n",
    "example in this window."
   ]
  },
  {
   "cell_type": "code",
   "execution_count": 7,
   "metadata": {},
   "outputs": [
    {
     "data": {
      "application/vnd.jupyter.widget-view+json": {
       "model_id": "ab318b8a2ebc41999ecacdc89b5625f6",
       "version_major": 2,
       "version_minor": 0
      },
      "text/plain": [
       "AnatomistInteractiveWidget(height=384, layout=Layout(height='auto', width='auto'), width=384)"
      ]
     },
     "metadata": {},
     "output_type": "display_data"
    }
   ],
   "source": [
    "# view an object\n",
    "axial = a.createWindow(\"Axial\")\n",
    "axial.addObjects(t1mri)"
   ]
  },
  {
   "cell_type": "markdown",
   "metadata": {},
   "source": [
    "See\n",
    "[the corresponding actions in the graphical interface](../../anatomist/user_doc/anatomist_tutorial.html#view-an-object).\n",
    "\n",
    "When opening a new window, it is possible to change its initial position\n",
    "and size with the *geometry* parameter. This parameter is a list of 4\n",
    "values (in pixels) : [x, y, width, height]."
   ]
  },
  {
   "cell_type": "code",
   "execution_count": 8,
   "metadata": {},
   "outputs": [
    {
     "data": {
      "application/vnd.jupyter.widget-view+json": {
       "model_id": "5d9909ce164e48eab73380abe554be2a",
       "version_major": 2,
       "version_minor": 0
      },
      "text/plain": [
       "AnatomistInteractiveWidget(height=296, layout=Layout(height='auto', width='auto'), width=296)"
      ]
     },
     "metadata": {},
     "output_type": "display_data"
    }
   ],
   "source": [
    "# customizing the position and size of a new window:\n",
    "# the windows will be displayed at position (100, 150)\n",
    "# with a size of (300, 300)\n",
    "w = a.createWindow(\"Axial\", geometry=[100, 150, 300, 300])"
   ]
  },
  {
   "cell_type": "markdown",
   "metadata": {},
   "source": [
    "### Windows block\n",
    "\n",
    "We create 4 views in the same windows block and add the image in each\n",
    "views."
   ]
  },
  {
   "cell_type": "code",
   "execution_count": 9,
   "metadata": {},
   "outputs": [
    {
     "data": {
      "application/vnd.jupyter.widget-view+json": {
       "model_id": "2788d91905c44a5a8291fb71d8193233",
       "version_major": 2,
       "version_minor": 0
      },
      "text/plain": [
       "AnatomistInteractiveWidget(height=384, layout=Layout(height='auto', width='auto'), width=384)"
      ]
     },
     "metadata": {},
     "output_type": "display_data"
    },
    {
     "data": {
      "application/vnd.jupyter.widget-view+json": {
       "model_id": "fbed38fa1ee548f3adc717e3d2ea4a85",
       "version_major": 2,
       "version_minor": 0
      },
      "text/plain": [
       "AnatomistInteractiveWidget(height=186, layout=Layout(height='auto', width='auto'), width=384)"
      ]
     },
     "metadata": {},
     "output_type": "display_data"
    },
    {
     "data": {
      "application/vnd.jupyter.widget-view+json": {
       "model_id": "7541a42338474a009c4b5e04bf2a39f2",
       "version_major": 2,
       "version_minor": 0
      },
      "text/plain": [
       "AnatomistInteractiveWidget(height=186, layout=Layout(height='auto', width='auto'), width=384)"
      ]
     },
     "metadata": {},
     "output_type": "display_data"
    },
    {
     "data": {
      "application/vnd.jupyter.widget-view+json": {
       "model_id": "5ee224f819c14536bf8a00ed99abcc55",
       "version_major": 2,
       "version_minor": 0
      },
      "text/plain": [
       "AnatomistInteractiveWidget(height=384, layout=Layout(height='auto', width='auto'), width=384)"
      ]
     },
     "metadata": {},
     "output_type": "display_data"
    }
   ],
   "source": [
    "# view an object in a 4 views block\n",
    "block = a.createWindowsBlock(2) # 2 columns\n",
    "w1 = a.createWindow(\"Axial\", block=block)\n",
    "w2 = a.createWindow(\"Sagittal\", block=block)\n",
    "w3 = a.createWindow(\"Coronal\", block=block)\n",
    "w4 = a.createWindow(\"3D\", block=block)\n",
    "t1mri.addInWindows([w1, w2, w3, w4])"
   ]
  },
  {
   "cell_type": "markdown",
   "metadata": {},
   "source": [
    "### Move the cursor"
   ]
  },
  {
   "cell_type": "code",
   "execution_count": 10,
   "metadata": {},
   "outputs": [
    {
     "name": "stdout",
     "output_type": "stream",
     "text": [
      "\n",
      "Cursor at :  <soma.aims.AimsVector_FLOAT_3 object at 0x7f9018075288>\n",
      "[0.0, 0.0, 0.0]\n",
      "\n",
      "Cursor at :  <soma.aims.AimsVector_FLOAT_3 object at 0x7f9018075288>\n",
      "[150.0, 100.0, 60.0]\n"
     ]
    }
   ],
   "source": [
    "# show the cursor position\n",
    "print(\"\\nCursor at : \", a.linkCursorLastClickedPosition())\n",
    "# move the linked cursor \n",
    "w1.moveLinkedCursor([150, 100, 60])\n",
    "print(\"\\nCursor at : \", a.linkCursorLastClickedPosition())"
   ]
  },
  {
   "cell_type": "markdown",
   "metadata": {},
   "source": [
    "### Camera\n",
    "\n",
    "This method enables to change the [camera](pyanatomist_base.html#anatomist.base.Anatomist.AWindow.camera) parameters\n",
    "of a window. In this example, we change the zoom."
   ]
  },
  {
   "cell_type": "code",
   "execution_count": 11,
   "metadata": {},
   "outputs": [],
   "source": [
    "w4.camera(zoom=2)"
   ]
  },
  {
   "cell_type": "markdown",
   "metadata": {},
   "source": [
    "You can also change the rotation of the view by changing the\n",
    "*view\\_quaternion* parameters. The rotation is represented by a\n",
    "quaternion which is a vector with 4 parameters.\n",
    "\n",
    "As the interpretation of quaternions is not easy at first time, it is\n",
    "useful to look at the current value of the parameter in a window with\n",
    "the method [getInfos](pyanatomist_base.html#anatomist.base.Anatomist.AItem.getInfos)."
   ]
  },
  {
   "cell_type": "code",
   "execution_count": 12,
   "metadata": {},
   "outputs": [],
   "source": [
    "w4.getInfos()\n",
    "w4.camera(view_quaternion=[0.9, -0.2, -0.2, 0.3])"
   ]
  },
  {
   "cell_type": "markdown",
   "metadata": {},
   "source": [
    "It is possible to change the orientation of the slice plane with the\n",
    "parameter *slice\\_quaternion*."
   ]
  },
  {
   "cell_type": "code",
   "execution_count": 13,
   "metadata": {},
   "outputs": [],
   "source": [
    "w4.camera(slice_quaternion=[0.3, 0.3, 0, 0.9])"
   ]
  },
  {
   "cell_type": "markdown",
   "metadata": {},
   "source": [
    "See [the corresponding actions in the graphical interface](../../anatomist/user_doc/anatomist_tutorial.html#zoom-translation-and-rotation-of-a-volume).\n",
    "\n",
    "### View header information"
   ]
  },
  {
   "cell_type": "code",
   "execution_count": 14,
   "metadata": {},
   "outputs": [],
   "source": [
    "# view header\n",
    "browser = a.createWindow(\"Browser\")\n",
    "browser.addObjects(t1mri)"
   ]
  },
  {
   "cell_type": "markdown",
   "metadata": {},
   "source": [
    "See [the corresponding actions in the graphical interface](../../anatomist/user_doc/anatomist_tutorial.html#read-header-information-voxel-size-dimension-image).\n",
    "\n",
    "### Change the color palette"
   ]
  },
  {
   "cell_type": "code",
   "execution_count": 15,
   "metadata": {},
   "outputs": [],
   "source": [
    "# color palette\n",
    "palette = a.getPalette(\"Blue-Green-Red-Yellow\")\n",
    "t1mri.setPalette(palette)"
   ]
  },
  {
   "cell_type": "markdown",
   "metadata": {},
   "source": [
    "See [the corresponding actions in the graphical interface](../../anatomist/user_doc/anatomist_tutorial.html#modification-of-color-palette).\n",
    "\n",
    "#### Custom palette\n",
    "\n",
    "You can create a new palette by giving the list of RGB parameters of the\n",
    "palette colors."
   ]
  },
  {
   "cell_type": "code",
   "execution_count": 16,
   "metadata": {},
   "outputs": [],
   "source": [
    "# custom palette\n",
    "customPalette = a.createPalette(\"customPalette\")\n",
    "colors = []\n",
    "for x in range(255):\n",
    "    colors.extend([0, 0, x])\n",
    "\n",
    "customPalette.setColors(colors=colors)\n",
    "t1mri.setPalette(customPalette)"
   ]
  },
  {
   "cell_type": "markdown",
   "metadata": {},
   "source": [
    "### View meshes"
   ]
  },
  {
   "cell_type": "code",
   "execution_count": 17,
   "metadata": {},
   "outputs": [
    {
     "data": {
      "application/vnd.jupyter.widget-view+json": {
       "model_id": "5b4998c488454a948402658de92cdcf6",
       "version_major": 2,
       "version_minor": 0
      },
      "text/plain": [
       "AnatomistInteractiveWidget(height=384, layout=Layout(height='auto', width='auto'), width=384)"
      ]
     },
     "metadata": {},
     "output_type": "display_data"
    }
   ],
   "source": [
    "# view meshes\n",
    "lwhite = a.loadObject(os.path.join(src, \"data_for_anatomist\", \"subject01\", \"subject01_Lwhite.mesh\"))\n",
    "rwhite = a.loadObject(os.path.join(src, \"data_for_anatomist\", \"subject01\", \"subject01_Rwhite.mesh\"))\n",
    "w3d = a.createWindow(\"3D\")\n",
    "w3d.addObjects([lwhite, rwhite])"
   ]
  },
  {
   "cell_type": "markdown",
   "metadata": {},
   "source": [
    "See [the corresponding actions in the graphical interface](../../anatomist/user_doc/anatomist_tutorial.html#view-meshes).\n",
    "\n",
    "### Superimposing"
   ]
  },
  {
   "cell_type": "code",
   "execution_count": 18,
   "metadata": {},
   "outputs": [],
   "source": [
    "# superimposing\n",
    "w3d.addObjects(t1mri)\n",
    "w3d.camera(view_quaternion=[0.403016120195389, 0.20057387650013, 0.316507339477539, 0.834967792034149])"
   ]
  },
  {
   "cell_type": "markdown",
   "metadata": {},
   "source": [
    "See [the corresponding actions in the graphical interface](../../anatomist/user_doc/anatomist_tutorial.html#superimposing-objects).\n",
    "\n",
    "### Change mesh material"
   ]
  },
  {
   "cell_type": "code",
   "execution_count": 19,
   "metadata": {},
   "outputs": [],
   "source": [
    "# mesh material\n",
    "head = a.loadObject(os.path.join(src, \"data_for_anatomist\", \"subject01\", \"subject01_head.mesh\"))\n",
    "head.addInWindows(w3d)\n",
    "material = a.Material(diffuse=[0.8, 0.6, 0.6, 0.5])\n",
    "head.setMaterial(material)"
   ]
  },
  {
   "cell_type": "markdown",
   "metadata": {},
   "source": [
    "See [the corresponding actions in the graphical interface](../../anatomist/user_doc/anatomist_tutorial.html#change-the-mesh-material).\n",
    "\n",
    "### Fusion between two volumes"
   ]
  },
  {
   "cell_type": "code",
   "execution_count": 20,
   "metadata": {},
   "outputs": [
    {
     "data": {
      "application/vnd.jupyter.widget-view+json": {
       "model_id": "a3354c02056b4d7ca8c0825532098f85",
       "version_major": 2,
       "version_minor": 0
      },
      "text/plain": [
       "AnatomistInteractiveWidget(height=384, layout=Layout(height='auto', width='auto'), width=384)"
      ]
     },
     "metadata": {},
     "output_type": "display_data"
    },
    {
     "data": {
      "text/plain": [
       "<anatomist.cpp.anatomist.RegularCommand at 0x7f90181b0168>"
      ]
     },
     "execution_count": 20,
     "metadata": {},
     "output_type": "execute_result"
    }
   ],
   "source": [
    "brain_mask = a.loadObject(os.path.join(src, \"data_for_anatomist\", \"subject01\", \"brain_subject01.nii\"))\n",
    "brain_mask.setPalette(\"GREEN-ufusion\")\n",
    "t1mri.setPalette(\"B-W LINEAR\")\n",
    "# fusion 2D\n",
    "fusion2d = a.fusionObjects([brain_mask, t1mri], \"Fusion2DMethod\")\n",
    "axial = a.createWindow(\"Axial\")\n",
    "axial.addObjects(fusion2d)\n",
    "# params of the fusion : linear on non null\n",
    "a.execute(\"Fusion2DParams\", object=fusion2d, mode=\"linear_on_defined\", rate=0.4)"
   ]
  },
  {
   "cell_type": "markdown",
   "metadata": {},
   "source": [
    "It is possible to do different types of fusions using the same method\n",
    "[Anatomist.fusionObjects](pyanatomist_base.html#anatomist.base.Anatomist.fusionObjects) and changing the list of objects and the type of\n",
    "fusion.\n",
    "\n",
    "See [the corresponding actions in the graphical interface](../../anatomist/user_doc/anatomist_tutorial.html#fusion-between-2-volumes).\n",
    "\n",
    "### Load a transformation"
   ]
  },
  {
   "cell_type": "code",
   "execution_count": 21,
   "metadata": {},
   "outputs": [
    {
     "data": {
      "application/vnd.jupyter.widget-view+json": {
       "model_id": "88f5a6e5644c45ef88cbb25747a89b9f",
       "version_major": 2,
       "version_minor": 0
      },
      "text/plain": [
       "AnatomistInteractiveWidget(height=384, layout=Layout(height='auto', width='auto'), width=384)"
      ]
     },
     "metadata": {},
     "output_type": "display_data"
    }
   ],
   "source": [
    "t1mri_s2 = a.loadObject(os.path.join(src, \"data_for_anatomist\", \"subject02\", \"sujet02.ima\"))\n",
    "t1mri_s2.setPalette(\"Blue-White\")\n",
    "fusion2d = a.fusionObjects([t1mri, t1mri_s2], \"Fusion2DMethod\")\n",
    "r1 = a.createReferential()\n",
    "r2 = a.createReferential()\n",
    "cr = a.centralRef\n",
    "t1mri.assignReferential(r1)\n",
    "t1mri_s2.assignReferential(r2)\n",
    "# load a transformation\n",
    "a.loadTransformation(os.path.join(src, \"data_for_anatomist\", \"subject01\", \"RawT1-subject01_default_acquisition_TO_Talairach-ACPC.trm\"), r1, cr)\n",
    "a.loadTransformation(os.path.join(src, \"data_for_anatomist\", \"subject02\", \"RawT1-sujet02_200810_TO_Talairach-ACPC.trm\"), r2, cr)\n",
    "axial = a.createWindow(\"Axial\")\n",
    "axial.addObjects(fusion2d)"
   ]
  },
  {
   "cell_type": "markdown",
   "metadata": {},
   "source": [
    "See [the corresponding actions in the graphical interface](../../anatomist/user_doc/anatomist_tutorial.html#load-a-transformation).\n",
    "\n",
    "### Load an existing referential"
   ]
  },
  {
   "cell_type": "code",
   "execution_count": 22,
   "metadata": {},
   "outputs": [],
   "source": [
    "lwhite.assignReferential(r1)\n",
    "axial.addObjects(lwhite)"
   ]
  },
  {
   "cell_type": "markdown",
   "metadata": {},
   "source": [
    "See [the corresponding actions in the graphical interface](../../anatomist/user_doc/anatomist_tutorial.html#load-an-existing-referential).\n",
    "\n",
    "### Load referential information from file header"
   ]
  },
  {
   "cell_type": "code",
   "execution_count": 23,
   "metadata": {},
   "outputs": [
    {
     "data": {
      "application/vnd.jupyter.widget-view+json": {
       "model_id": "bfe4d67117a543168b919dca47c218a7",
       "version_major": 2,
       "version_minor": 0
      },
      "text/plain": [
       "AnatomistInteractiveWidget(height=384, layout=Layout(height='auto', width='auto'), width=384)"
      ]
     },
     "metadata": {},
     "output_type": "display_data"
    },
    {
     "data": {
      "text/plain": [
       "<anatomist.cpp.anatomist.RegularCommand at 0x7f8ff9edf828>"
      ]
     },
     "execution_count": 23,
     "metadata": {},
     "output_type": "execute_result"
    }
   ],
   "source": [
    "map = a.loadObject(os.path.join(src, \"data_for_anatomist\", \"subject01\", \"Audio-Video_T_map.nii\"))\n",
    "map.setPalette(\"tvalues100-200-100\")\n",
    "t1mri.loadReferentialFromHeader()\n",
    "map.loadReferentialFromHeader()\n",
    "fusion_map = a.fusionObjects([map, t1mri], \"Fusion2DMethod\")\n",
    "axial = a.createWindow(\"Axial\")\n",
    "axial.addObjects(fusion_map)\n",
    "a.execute(\"Fusion2DParams\", object=fusion_map, mode=\"linear_on_defined\", rate=0.5)"
   ]
  },
  {
   "cell_type": "markdown",
   "metadata": {},
   "source": [
    "See [the corresponding actions in the graphical interface](../../anatomist/user_doc/anatomist_tutorial.html#load-referential-information-from-file-header).\n",
    "\n",
    "### Display a ROI graph"
   ]
  },
  {
   "cell_type": "code",
   "execution_count": 24,
   "metadata": {},
   "outputs": [
    {
     "data": {
      "application/vnd.jupyter.widget-view+json": {
       "model_id": "214fd4b13f5749059f39ca324a6503e2",
       "version_major": 2,
       "version_minor": 0
      },
      "text/plain": [
       "AnatomistInteractiveWidget(height=384, layout=Layout(height='auto', width='auto'), width=384)"
      ]
     },
     "metadata": {},
     "output_type": "display_data"
    }
   ],
   "source": [
    "graph = a.loadObject(os.path.join(src, \"data_for_anatomist\", \"roi\", \"basal_ganglia.arg\"))\n",
    "w = a.createWindow('3D')\n",
    "w.addObjects(graph, add_graph_nodes=True)"
   ]
  },
  {
   "cell_type": "markdown",
   "metadata": {},
   "source": [
    "See [the corresponding actions in the graphical interface](../../anatomist/user_doc/anatomist_tutorial.html#display-a-graph-of-roi).\n",
    "\n",
    "### Sending a command to Anatomist\n",
    "\n",
    "A lot of commands that can be processed by Anatomist are encapsulted in\n",
    "Anatomist class methods. But some commands, less commonly used are not\n",
    "available through specific methods. Nevertheless, they can be called\n",
    "through a generic method [Anatomist.execute](pyanatomist_base.html#anatomist.base.Anatomist.execute).\n",
    "\n",
    "The list of available commands is listed in the following page:\n",
    "[anatomist commands](../../anatomist/dev_doc/commands.html).\n",
    "\n",
    "In the previous examples, we use this method to call the\n",
    "[Fusion2DParams command](../../anatomist/dev_doc/commands.html#fusion2dparams)\n",
    "which is not encapsulated in a specific method."
   ]
  },
  {
   "cell_type": "code",
   "execution_count": 25,
   "metadata": {},
   "outputs": [
    {
     "data": {
      "text/plain": [
       "<anatomist.cpp.anatomist.RegularCommand at 0x7f901816f288>"
      ]
     },
     "execution_count": 25,
     "metadata": {},
     "output_type": "execute_result"
    }
   ],
   "source": [
    "a.execute(\"Fusion2DParams\", object=fusion_map, mode=\"linear_on_defined\", rate=0.5)"
   ]
  },
  {
   "cell_type": "markdown",
   "metadata": {},
   "source": [
    "Using the direct implementation\n",
    "-------------------------------\n",
    "\n",
    "When you use the direct implementation of Anatomist Python API, more\n",
    "features are available. Indeed, each C++ class and function that are\n",
    "declared in the SIP bindings are available in Python. Moreover, the\n",
    "Python script and Anatomist objects share memory, so lower level\n",
    "manipulations are possible.\n",
    "\n",
    "See the [Anatomist doxygen documentation](../../anatomist/doxygen/index.html) about the\n",
    "C++ API to have more information about the classes and functions that\n",
    "may be available in Python (if the bindings are done).\n",
    "\n",
    "In this mode, it is also possible to interact on objects directly and\n",
    "interactively with Python Aims API. See more details about that in\n",
    "[PyAnatomist / PyAIMS tutorial: mixing Anatomist and AIMS in Python language.](pyanatomist_pyaims_tutorial.html).\n",
    "\n",
    "Amongst the noticeable benefits of the direct implementation is the\n",
    "possibility to use Anatomist views as Qt widgets to build custom\n",
    "interfaces. This is what has been used to program the\n",
    "[AnaSimpleViewer](../../anatomist/user_doc/anatomist_tutorial.html#anasimpleviewer) application. See the\n",
    "[Simple Viewer](pyanatomist_examples.html#simple-viewer) example."
   ]
  },
  {
   "cell_type": "markdown",
   "metadata": {},
   "source": [
    "At the end, cleanup the temporary working directory\n",
    "---------------------------------------------------"
   ]
  },
  {
   "cell_type": "code",
   "execution_count": 31,
   "metadata": {
    "collapsed": true
   },
   "outputs": [],
   "source": [
    "# cleanup data\n",
    "import shutil\n",
    "os.chdir(older_cwd)\n",
    "shutil.rmtree(tuto_dir)"
   ]
  }
 ],
 "metadata": {
  "celltoolbar": "Edit Metadata",
  "kernelspec": {
   "display_name": "Python 2",
   "language": "python",
   "name": "python2"
  },
  "language_info": {
   "codemirror_mode": {
    "name": "ipython",
    "version": 3
   },
   "file_extension": ".py",
   "mimetype": "text/x-python",
   "name": "python",
   "nbconvert_exporter": "python",
   "pygments_lexer": "ipython3",
   "version": "3.6.9"
  }
 },
 "nbformat": 4,
 "nbformat_minor": 1
}
